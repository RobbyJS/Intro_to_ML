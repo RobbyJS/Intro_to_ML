{
 "cells": [
  {
   "cell_type": "markdown",
   "metadata": {},
   "source": [
    "# Developing an AI application\n",
    "\n",
    "Going forward, AI algorithms will be incorporated into more and more everyday applications. For example, you might want to include an image classifier in a smart phone app. To do this, you'd use a deep learning model trained on hundreds of thousands of images as part of the overall application architecture. A large part of software development in the future will be using these types of models as common parts of applications. \n",
    "\n",
    "In this project, you'll train an image classifier to recognize different species of flowers. You can imagine using something like this in a phone app that tells you the name of the flower your camera is looking at. In practice you'd train this classifier, then export it for use in your application. We'll be using [this dataset](http://www.robots.ox.ac.uk/~vgg/data/flowers/102/index.html) of 102 flower categories, you can see a few examples below. \n",
    "\n",
    "<img src='assets/Flowers.png' width=500px>\n",
    "\n",
    "The project is broken down into multiple steps:\n",
    "\n",
    "* Load and preprocess the image dataset\n",
    "* Train the image classifier on your dataset\n",
    "* Use the trained classifier to predict image content\n",
    "\n",
    "We'll lead you through each part which you'll implement in Python.\n",
    "\n",
    "When you've completed this project, you'll have an application that can be trained on any set of labeled images. Here your network will be learning about flowers and end up as a command line application. But, what you do with your new skills depends on your imagination and effort in building a dataset. For example, imagine an app where you take a picture of a car, it tells you what the make and model is, then looks up information about it. Go build your own dataset and make something new.\n",
    "\n",
    "First up is importing the packages you'll need. It's good practice to keep all the imports at the beginning of your code. As you work through this notebook and find you need to import a package, make sure to add the import up here."
   ]
  },
  {
   "cell_type": "code",
   "execution_count": 1,
   "metadata": {},
   "outputs": [],
   "source": [
    "# Imports here\n",
    "import matplotlib.pyplot as plt\n",
    "import collections\n",
    "import numpy as np\n",
    "\n",
    "import torch\n",
    "from torch import nn\n",
    "from torch import optim\n",
    "import torch.nn.functional as F\n",
    "from torchvision import datasets, transforms, models\n",
    "\n",
    "from workspace_utils import active_session"
   ]
  },
  {
   "cell_type": "markdown",
   "metadata": {},
   "source": [
    "## Load the data\n",
    "\n",
    "Here you'll use `torchvision` to load the data ([documentation](http://pytorch.org/docs/0.3.0/torchvision/index.html)). The data should be included alongside this notebook, otherwise you can [download it here](https://s3.amazonaws.com/content.udacity-data.com/nd089/flower_data.tar.gz). The dataset is split into three parts, training, validation, and testing. For the training, you'll want to apply transformations such as random scaling, cropping, and flipping. This will help the network generalize leading to better performance. You'll also need to make sure the input data is resized to 224x224 pixels as required by the pre-trained networks.\n",
    "\n",
    "The validation and testing sets are used to measure the model's performance on data it hasn't seen yet. For this you don't want any scaling or rotation transformations, but you'll need to resize then crop the images to the appropriate size.\n",
    "\n",
    "The pre-trained networks you'll use were trained on the ImageNet dataset where each color channel was normalized separately. For all three sets you'll need to normalize the means and standard deviations of the images to what the network expects. For the means, it's `[0.485, 0.456, 0.406]` and for the standard deviations `[0.229, 0.224, 0.225]`, calculated from the ImageNet images.  These values will shift each color channel to be centered at 0 and range from -1 to 1.\n",
    " "
   ]
  },
  {
   "cell_type": "code",
   "execution_count": 2,
   "metadata": {},
   "outputs": [],
   "source": [
    "data_dir = 'flowers'\n",
    "train_dir = data_dir + '/train'\n",
    "valid_dir = data_dir + '/valid'\n",
    "test_dir = data_dir + '/test'"
   ]
  },
  {
   "cell_type": "code",
   "execution_count": 3,
   "metadata": {},
   "outputs": [],
   "source": [
    "# TODO: Define your transforms for the training, validation, and testing sets\n",
    "train_transforms = transforms.Compose([\n",
    "                                       transforms.RandomRotation(30),\n",
    "                                       transforms.RandomResizedCrop(224),\n",
    "                                       transforms.RandomHorizontalFlip(),\n",
    "                                       transforms.ToTensor(),\n",
    "                                       transforms.Normalize([0.485, 0.456, 0.406],\n",
    "                                                            [0.229, 0.224, 0.225])\n",
    "])\n",
    "test_transforms = transforms.Compose([\n",
    "                                       transforms.Resize(255),\n",
    "                                       transforms.CenterCrop(224),\n",
    "                                       transforms.ToTensor(),\n",
    "                                       transforms.Normalize([0.485, 0.456, 0.406],\n",
    "                                                            [0.229, 0.224, 0.225])\n",
    "])\n",
    "transforms = {'train':train_transforms,'valid':test_transforms,'test':test_transforms}\n",
    "\n",
    "# TODO: Load the datasets with ImageFolder\n",
    "train_dataset = datasets.ImageFolder(train_dir,transform=train_transforms)\n",
    "valid_dataset = datasets.ImageFolder(valid_dir,transform=test_transforms)\n",
    "test_dataset = datasets.ImageFolder(test_dir,transform=test_transforms)\n",
    "image_datasets = {'train':train_dataset,'valid':valid_dataset,'test':test_dataset}\n",
    "\n",
    "# TODO: Using the image datasets and the trainforms, define the dataloaders\n",
    "# dataloaders = \n",
    "trainloader = torch.utils.data.DataLoader(train_dataset,batch_size=64,shuffle=True)\n",
    "validloader = torch.utils.data.DataLoader(valid_dataset,batch_size=64)\n",
    "testloader = torch.utils.data.DataLoader(test_dataset,batch_size=64)\n",
    "dataloader = {'train':trainloader,'valid':validloader,'test':testloader}"
   ]
  },
  {
   "cell_type": "markdown",
   "metadata": {},
   "source": [
    "### Label mapping\n",
    "\n",
    "You'll also need to load in a mapping from category label to category name. You can find this in the file `cat_to_name.json`. It's a JSON object which you can read in with the [`json` module](https://docs.python.org/2/library/json.html). This will give you a dictionary mapping the integer encoded categories to the actual names of the flowers."
   ]
  },
  {
   "cell_type": "code",
   "execution_count": 4,
   "metadata": {},
   "outputs": [],
   "source": [
    "import json\n",
    "\n",
    "with open('cat_to_name.json', 'r') as f:\n",
    "    cat_to_name = json.load(f)"
   ]
  },
  {
   "cell_type": "markdown",
   "metadata": {},
   "source": [
    "# Building and training the classifier\n",
    "\n",
    "Now that the data is ready, it's time to build and train the classifier. As usual, you should use one of the pretrained models from `torchvision.models` to get the image features. Build and train a new feed-forward classifier using those features.\n",
    "\n",
    "We're going to leave this part up to you. Refer to [the rubric](https://review.udacity.com/#!/rubrics/1663/view) for guidance on successfully completing this section. Things you'll need to do:\n",
    "\n",
    "* Load a [pre-trained network](http://pytorch.org/docs/master/torchvision/models.html) (If you need a starting point, the VGG networks work great and are straightforward to use)\n",
    "* Define a new, untrained feed-forward network as a classifier, using ReLU activations and dropout\n",
    "* Train the classifier layers using backpropagation using the pre-trained network to get the features\n",
    "* Track the loss and accuracy on the validation set to determine the best hyperparameters\n",
    "\n",
    "We've left a cell open for you below, but use as many as you need. Our advice is to break the problem up into smaller parts you can run separately. Check that each part is doing what you expect, then move on to the next. You'll likely find that as you work through each part, you'll need to go back and modify your previous code. This is totally normal!\n",
    "\n",
    "When training make sure you're updating only the weights of the feed-forward network. You should be able to get the validation accuracy above 70% if you build everything right. Make sure to try different hyperparameters (learning rate, units in the classifier, epochs, etc) to find the best model. Save those hyperparameters to use as default values in the next part of the project.\n",
    "\n",
    "One last important tip if you're using the workspace to run your code: To avoid having your workspace disconnect during the long-running tasks in this notebook, please read in the earlier page in this lesson called Intro to\n",
    "GPU Workspaces about Keeping Your Session Active. You'll want to include code from the workspace_utils.py module.\n",
    "\n",
    "**Note for Workspace users:** If your network is over 1 GB when saved as a checkpoint, there might be issues with saving backups in your workspace. Typically this happens with wide dense layers after the convolutional layers. If your saved checkpoint is larger than 1 GB (you can open a terminal and check with `ls -lh`), you should reduce the size of your hidden layers and train again."
   ]
  },
  {
   "cell_type": "code",
   "execution_count": 5,
   "metadata": {},
   "outputs": [
    {
     "name": "stderr",
     "output_type": "stream",
     "text": [
      "Downloading: \"https://download.pytorch.org/models/vgg16-397923af.pth\" to /root/.torch/models/vgg16-397923af.pth\n",
      "100%|██████████| 553433881/553433881 [00:05<00:00, 96145456.29it/s] \n"
     ]
    }
   ],
   "source": [
    "# TODO: Build and train your network\n",
    "base_model = 'vgg16'\n",
    "model = getattr(models, base_model)(pretrained=True)\n",
    "#model = models.vgg11(pretrained=True)"
   ]
  },
  {
   "cell_type": "code",
   "execution_count": 6,
   "metadata": {},
   "outputs": [
    {
     "data": {
      "text/plain": [
       "VGG(\n",
       "  (features): Sequential(\n",
       "    (0): Conv2d(3, 64, kernel_size=(3, 3), stride=(1, 1), padding=(1, 1))\n",
       "    (1): ReLU(inplace)\n",
       "    (2): Conv2d(64, 64, kernel_size=(3, 3), stride=(1, 1), padding=(1, 1))\n",
       "    (3): ReLU(inplace)\n",
       "    (4): MaxPool2d(kernel_size=2, stride=2, padding=0, dilation=1, ceil_mode=False)\n",
       "    (5): Conv2d(64, 128, kernel_size=(3, 3), stride=(1, 1), padding=(1, 1))\n",
       "    (6): ReLU(inplace)\n",
       "    (7): Conv2d(128, 128, kernel_size=(3, 3), stride=(1, 1), padding=(1, 1))\n",
       "    (8): ReLU(inplace)\n",
       "    (9): MaxPool2d(kernel_size=2, stride=2, padding=0, dilation=1, ceil_mode=False)\n",
       "    (10): Conv2d(128, 256, kernel_size=(3, 3), stride=(1, 1), padding=(1, 1))\n",
       "    (11): ReLU(inplace)\n",
       "    (12): Conv2d(256, 256, kernel_size=(3, 3), stride=(1, 1), padding=(1, 1))\n",
       "    (13): ReLU(inplace)\n",
       "    (14): Conv2d(256, 256, kernel_size=(3, 3), stride=(1, 1), padding=(1, 1))\n",
       "    (15): ReLU(inplace)\n",
       "    (16): MaxPool2d(kernel_size=2, stride=2, padding=0, dilation=1, ceil_mode=False)\n",
       "    (17): Conv2d(256, 512, kernel_size=(3, 3), stride=(1, 1), padding=(1, 1))\n",
       "    (18): ReLU(inplace)\n",
       "    (19): Conv2d(512, 512, kernel_size=(3, 3), stride=(1, 1), padding=(1, 1))\n",
       "    (20): ReLU(inplace)\n",
       "    (21): Conv2d(512, 512, kernel_size=(3, 3), stride=(1, 1), padding=(1, 1))\n",
       "    (22): ReLU(inplace)\n",
       "    (23): MaxPool2d(kernel_size=2, stride=2, padding=0, dilation=1, ceil_mode=False)\n",
       "    (24): Conv2d(512, 512, kernel_size=(3, 3), stride=(1, 1), padding=(1, 1))\n",
       "    (25): ReLU(inplace)\n",
       "    (26): Conv2d(512, 512, kernel_size=(3, 3), stride=(1, 1), padding=(1, 1))\n",
       "    (27): ReLU(inplace)\n",
       "    (28): Conv2d(512, 512, kernel_size=(3, 3), stride=(1, 1), padding=(1, 1))\n",
       "    (29): ReLU(inplace)\n",
       "    (30): MaxPool2d(kernel_size=2, stride=2, padding=0, dilation=1, ceil_mode=False)\n",
       "  )\n",
       "  (classifier): Sequential(\n",
       "    (0): Linear(in_features=25088, out_features=4096, bias=True)\n",
       "    (1): ReLU(inplace)\n",
       "    (2): Dropout(p=0.5)\n",
       "    (3): Linear(in_features=4096, out_features=4096, bias=True)\n",
       "    (4): ReLU(inplace)\n",
       "    (5): Dropout(p=0.5)\n",
       "    (6): Linear(in_features=4096, out_features=1000, bias=True)\n",
       "  )\n",
       ")"
      ]
     },
     "execution_count": 6,
     "metadata": {},
     "output_type": "execute_result"
    }
   ],
   "source": [
    "model"
   ]
  },
  {
   "cell_type": "code",
   "execution_count": 7,
   "metadata": {},
   "outputs": [],
   "source": [
    "for param in model.parameters():\n",
    "    param.requires_grad = False"
   ]
  },
  {
   "cell_type": "code",
   "execution_count": 8,
   "metadata": {},
   "outputs": [],
   "source": [
    "# Classifier neural network parameters\n",
    "c_input_size = 25088\n",
    "c_output_size = 102\n",
    "c_hidden_layers = [1024,512,256]\n",
    "dropout_p = 0.4"
   ]
  },
  {
   "cell_type": "code",
   "execution_count": 9,
   "metadata": {},
   "outputs": [],
   "source": [
    "class Classifier(nn.Module):\n",
    "    def __init__(self, input_size, output_size, hidden_layers, drop_p=0.5):\n",
    "        ''' Builds a feedforward network with arbitrary hidden layers.\n",
    "        \n",
    "            Arguments\n",
    "            ---------\n",
    "            input_size: integer, size of the input layer\n",
    "            output_size: integer, size of the output layer\n",
    "            hidden_layers: list of integers, the sizes of the hidden layers\n",
    "        \n",
    "        '''\n",
    "        super().__init__()\n",
    "        # Input to a hidden layer\n",
    "        self.hidden_layers = nn.ModuleList([nn.Linear(input_size, hidden_layers[0])])\n",
    "        \n",
    "        # Add a variable number of more hidden layers\n",
    "        layer_sizes = zip(hidden_layers[:-1], hidden_layers[1:])\n",
    "        self.hidden_layers.extend([nn.Linear(h1, h2) for h1, h2 in layer_sizes])\n",
    "        \n",
    "        self.output = nn.Linear(hidden_layers[-1], output_size)\n",
    "        \n",
    "        self.dropout = nn.Dropout(p=drop_p)\n",
    "        \n",
    "    def forward(self, x):\n",
    "        ''' Forward pass through the network, returns the output logits '''\n",
    "        \n",
    "        for each in self.hidden_layers:\n",
    "            x = F.relu(each(x))\n",
    "            x = self.dropout(x)\n",
    "        x = self.output(x)\n",
    "        \n",
    "        return F.log_softmax(x, dim=1)"
   ]
  },
  {
   "cell_type": "code",
   "execution_count": 10,
   "metadata": {},
   "outputs": [
    {
     "data": {
      "text/plain": [
       "Classifier(\n",
       "  (hidden_layers): ModuleList(\n",
       "    (0): Linear(in_features=25088, out_features=1024, bias=True)\n",
       "    (1): Linear(in_features=1024, out_features=512, bias=True)\n",
       "    (2): Linear(in_features=512, out_features=256, bias=True)\n",
       "  )\n",
       "  (output): Linear(in_features=256, out_features=102, bias=True)\n",
       "  (dropout): Dropout(p=0.4)\n",
       ")"
      ]
     },
     "execution_count": 10,
     "metadata": {},
     "output_type": "execute_result"
    }
   ],
   "source": [
    "classifier = Classifier(c_input_size,c_output_size,c_hidden_layers,dropout_p)\n",
    "classifier"
   ]
  },
  {
   "cell_type": "code",
   "execution_count": 11,
   "metadata": {},
   "outputs": [],
   "source": [
    "model.classifier = classifier"
   ]
  },
  {
   "cell_type": "code",
   "execution_count": 12,
   "metadata": {},
   "outputs": [
    {
     "data": {
      "text/plain": [
       "VGG(\n",
       "  (features): Sequential(\n",
       "    (0): Conv2d(3, 64, kernel_size=(3, 3), stride=(1, 1), padding=(1, 1))\n",
       "    (1): ReLU(inplace)\n",
       "    (2): Conv2d(64, 64, kernel_size=(3, 3), stride=(1, 1), padding=(1, 1))\n",
       "    (3): ReLU(inplace)\n",
       "    (4): MaxPool2d(kernel_size=2, stride=2, padding=0, dilation=1, ceil_mode=False)\n",
       "    (5): Conv2d(64, 128, kernel_size=(3, 3), stride=(1, 1), padding=(1, 1))\n",
       "    (6): ReLU(inplace)\n",
       "    (7): Conv2d(128, 128, kernel_size=(3, 3), stride=(1, 1), padding=(1, 1))\n",
       "    (8): ReLU(inplace)\n",
       "    (9): MaxPool2d(kernel_size=2, stride=2, padding=0, dilation=1, ceil_mode=False)\n",
       "    (10): Conv2d(128, 256, kernel_size=(3, 3), stride=(1, 1), padding=(1, 1))\n",
       "    (11): ReLU(inplace)\n",
       "    (12): Conv2d(256, 256, kernel_size=(3, 3), stride=(1, 1), padding=(1, 1))\n",
       "    (13): ReLU(inplace)\n",
       "    (14): Conv2d(256, 256, kernel_size=(3, 3), stride=(1, 1), padding=(1, 1))\n",
       "    (15): ReLU(inplace)\n",
       "    (16): MaxPool2d(kernel_size=2, stride=2, padding=0, dilation=1, ceil_mode=False)\n",
       "    (17): Conv2d(256, 512, kernel_size=(3, 3), stride=(1, 1), padding=(1, 1))\n",
       "    (18): ReLU(inplace)\n",
       "    (19): Conv2d(512, 512, kernel_size=(3, 3), stride=(1, 1), padding=(1, 1))\n",
       "    (20): ReLU(inplace)\n",
       "    (21): Conv2d(512, 512, kernel_size=(3, 3), stride=(1, 1), padding=(1, 1))\n",
       "    (22): ReLU(inplace)\n",
       "    (23): MaxPool2d(kernel_size=2, stride=2, padding=0, dilation=1, ceil_mode=False)\n",
       "    (24): Conv2d(512, 512, kernel_size=(3, 3), stride=(1, 1), padding=(1, 1))\n",
       "    (25): ReLU(inplace)\n",
       "    (26): Conv2d(512, 512, kernel_size=(3, 3), stride=(1, 1), padding=(1, 1))\n",
       "    (27): ReLU(inplace)\n",
       "    (28): Conv2d(512, 512, kernel_size=(3, 3), stride=(1, 1), padding=(1, 1))\n",
       "    (29): ReLU(inplace)\n",
       "    (30): MaxPool2d(kernel_size=2, stride=2, padding=0, dilation=1, ceil_mode=False)\n",
       "  )\n",
       "  (classifier): Classifier(\n",
       "    (hidden_layers): ModuleList(\n",
       "      (0): Linear(in_features=25088, out_features=1024, bias=True)\n",
       "      (1): Linear(in_features=1024, out_features=512, bias=True)\n",
       "      (2): Linear(in_features=512, out_features=256, bias=True)\n",
       "    )\n",
       "    (output): Linear(in_features=256, out_features=102, bias=True)\n",
       "    (dropout): Dropout(p=0.4)\n",
       "  )\n",
       ")"
      ]
     },
     "execution_count": 12,
     "metadata": {},
     "output_type": "execute_result"
    }
   ],
   "source": [
    "model"
   ]
  },
  {
   "cell_type": "markdown",
   "metadata": {},
   "source": [
    "### Training and validation"
   ]
  },
  {
   "cell_type": "code",
   "execution_count": 13,
   "metadata": {},
   "outputs": [],
   "source": [
    "# Use GPU if it's available\n",
    "device = torch.device(\"cuda\" if torch.cuda.is_available() else \"cpu\")\n",
    "model.to(device);\n",
    "\n",
    "criterion = nn.NLLLoss()\n",
    "optimizer = optim.Adam(model.classifier.parameters(), lr=0.005)"
   ]
  },
  {
   "cell_type": "code",
   "execution_count": 14,
   "metadata": {},
   "outputs": [],
   "source": [
    "epochs = 20\n",
    "steps = 0\n",
    "print_every = 20\n",
    "label_counts = dict.fromkeys(range(102),0)\n",
    "train_losses , valid_losses , accuracy_l = [], [], []"
   ]
  },
  {
   "cell_type": "code",
   "execution_count": 15,
   "metadata": {},
   "outputs": [
    {
     "name": "stdout",
     "output_type": "stream",
     "text": [
      "Epoch: 1/20..  Step: 20..  Training Loss: 5.319..  Valid. Loss: 4.497..  Valid. Accuracy: 0.065\n",
      "Epoch: 1/20..  Step: 40..  Training Loss: 4.480..  Valid. Loss: 4.221..  Valid. Accuracy: 0.137\n",
      "Epoch: 1/20..  Step: 60..  Training Loss: 4.457..  Valid. Loss: 3.993..  Valid. Accuracy: 0.135\n",
      "Epoch: 1/20..  Step: 80..  Training Loss: 4.297..  Valid. Loss: 3.839..  Valid. Accuracy: 0.146\n",
      "Epoch: 1/20..  Step: 100..  Training Loss: 4.310..  Valid. Loss: 3.732..  Valid. Accuracy: 0.147\n",
      "Epoch: 2/20..  Step: 120..  Training Loss: 4.221..  Valid. Loss: 3.572..  Valid. Accuracy: 0.168\n",
      "Epoch: 2/20..  Step: 140..  Training Loss: 4.090..  Valid. Loss: 3.659..  Valid. Accuracy: 0.153\n",
      "Epoch: 2/20..  Step: 160..  Training Loss: 4.206..  Valid. Loss: 3.433..  Valid. Accuracy: 0.172\n",
      "Epoch: 2/20..  Step: 180..  Training Loss: 4.076..  Valid. Loss: 3.488..  Valid. Accuracy: 0.195\n",
      "Epoch: 2/20..  Step: 200..  Training Loss: 4.104..  Valid. Loss: 3.385..  Valid. Accuracy: 0.229\n",
      "Epoch: 3/20..  Step: 220..  Training Loss: 4.209..  Valid. Loss: 3.702..  Valid. Accuracy: 0.157\n",
      "Epoch: 3/20..  Step: 240..  Training Loss: 4.114..  Valid. Loss: 3.351..  Valid. Accuracy: 0.191\n",
      "Epoch: 3/20..  Step: 260..  Training Loss: 4.075..  Valid. Loss: 3.523..  Valid. Accuracy: 0.197\n",
      "Epoch: 3/20..  Step: 280..  Training Loss: 4.127..  Valid. Loss: 3.503..  Valid. Accuracy: 0.191\n",
      "Epoch: 3/20..  Step: 300..  Training Loss: 4.120..  Valid. Loss: 3.529..  Valid. Accuracy: 0.196\n",
      "Epoch: 4/20..  Step: 320..  Training Loss: 3.995..  Valid. Loss: 3.372..  Valid. Accuracy: 0.194\n",
      "Epoch: 4/20..  Step: 340..  Training Loss: 4.013..  Valid. Loss: 3.332..  Valid. Accuracy: 0.219\n",
      "Epoch: 4/20..  Step: 360..  Training Loss: 4.064..  Valid. Loss: 3.381..  Valid. Accuracy: 0.219\n",
      "Epoch: 4/20..  Step: 380..  Training Loss: 4.013..  Valid. Loss: 3.450..  Valid. Accuracy: 0.168\n",
      "Epoch: 4/20..  Step: 400..  Training Loss: 4.066..  Valid. Loss: 3.324..  Valid. Accuracy: 0.203\n",
      "Epoch: 5/20..  Step: 420..  Training Loss: 4.070..  Valid. Loss: 3.313..  Valid. Accuracy: 0.192\n",
      "Epoch: 5/20..  Step: 440..  Training Loss: 3.980..  Valid. Loss: 3.296..  Valid. Accuracy: 0.216\n",
      "Epoch: 5/20..  Step: 460..  Training Loss: 3.902..  Valid. Loss: 3.375..  Valid. Accuracy: 0.220\n",
      "Epoch: 5/20..  Step: 480..  Training Loss: 4.009..  Valid. Loss: 3.370..  Valid. Accuracy: 0.212\n",
      "Epoch: 5/20..  Step: 500..  Training Loss: 3.920..  Valid. Loss: 3.363..  Valid. Accuracy: 0.181\n",
      "Epoch: 6/20..  Step: 520..  Training Loss: 3.880..  Valid. Loss: 3.308..  Valid. Accuracy: 0.220\n",
      "Epoch: 6/20..  Step: 540..  Training Loss: 3.972..  Valid. Loss: 3.299..  Valid. Accuracy: 0.225\n",
      "Epoch: 6/20..  Step: 560..  Training Loss: 3.874..  Valid. Loss: 3.244..  Valid. Accuracy: 0.216\n",
      "Epoch: 6/20..  Step: 580..  Training Loss: 3.866..  Valid. Loss: 3.205..  Valid. Accuracy: 0.216\n",
      "Epoch: 6/20..  Step: 600..  Training Loss: 3.888..  Valid. Loss: 3.237..  Valid. Accuracy: 0.221\n",
      "Epoch: 7/20..  Step: 620..  Training Loss: 3.878..  Valid. Loss: 3.195..  Valid. Accuracy: 0.226\n",
      "Epoch: 7/20..  Step: 640..  Training Loss: 3.932..  Valid. Loss: 3.297..  Valid. Accuracy: 0.225\n",
      "Epoch: 7/20..  Step: 660..  Training Loss: 3.857..  Valid. Loss: 3.124..  Valid. Accuracy: 0.213\n",
      "Epoch: 7/20..  Step: 680..  Training Loss: 3.892..  Valid. Loss: 3.077..  Valid. Accuracy: 0.237\n",
      "Epoch: 7/20..  Step: 700..  Training Loss: 3.894..  Valid. Loss: 3.168..  Valid. Accuracy: 0.211\n",
      "Epoch: 7/20..  Step: 720..  Training Loss: 3.884..  Valid. Loss: 3.187..  Valid. Accuracy: 0.232\n",
      "Epoch: 8/20..  Step: 740..  Training Loss: 3.871..  Valid. Loss: 3.165..  Valid. Accuracy: 0.232\n",
      "Epoch: 8/20..  Step: 760..  Training Loss: 3.885..  Valid. Loss: 3.163..  Valid. Accuracy: 0.240\n",
      "Epoch: 8/20..  Step: 780..  Training Loss: 3.822..  Valid. Loss: 3.127..  Valid. Accuracy: 0.232\n",
      "Epoch: 8/20..  Step: 800..  Training Loss: 3.995..  Valid. Loss: 3.139..  Valid. Accuracy: 0.234\n",
      "Epoch: 8/20..  Step: 820..  Training Loss: 3.859..  Valid. Loss: 3.114..  Valid. Accuracy: 0.203\n",
      "Epoch: 9/20..  Step: 840..  Training Loss: 3.898..  Valid. Loss: 3.215..  Valid. Accuracy: 0.186\n",
      "Epoch: 9/20..  Step: 860..  Training Loss: 3.853..  Valid. Loss: 3.130..  Valid. Accuracy: 0.230\n",
      "Epoch: 9/20..  Step: 880..  Training Loss: 3.880..  Valid. Loss: 3.199..  Valid. Accuracy: 0.243\n",
      "Epoch: 9/20..  Step: 900..  Training Loss: 3.884..  Valid. Loss: 3.079..  Valid. Accuracy: 0.235\n",
      "Epoch: 9/20..  Step: 920..  Training Loss: 3.908..  Valid. Loss: 3.208..  Valid. Accuracy: 0.243\n",
      "Epoch: 10/20..  Step: 940..  Training Loss: 3.887..  Valid. Loss: 3.383..  Valid. Accuracy: 0.193\n",
      "Epoch: 10/20..  Step: 960..  Training Loss: 4.021..  Valid. Loss: 3.109..  Valid. Accuracy: 0.224\n",
      "Epoch: 10/20..  Step: 980..  Training Loss: 3.872..  Valid. Loss: 3.152..  Valid. Accuracy: 0.241\n",
      "Epoch: 10/20..  Step: 1000..  Training Loss: 3.800..  Valid. Loss: 3.180..  Valid. Accuracy: 0.261\n",
      "Epoch: 10/20..  Step: 1020..  Training Loss: 3.900..  Valid. Loss: 3.139..  Valid. Accuracy: 0.231\n",
      "Epoch: 11/20..  Step: 1040..  Training Loss: 3.805..  Valid. Loss: 3.155..  Valid. Accuracy: 0.215\n",
      "Epoch: 11/20..  Step: 1060..  Training Loss: 3.789..  Valid. Loss: 3.192..  Valid. Accuracy: 0.232\n",
      "Epoch: 11/20..  Step: 1080..  Training Loss: 3.872..  Valid. Loss: 3.230..  Valid. Accuracy: 0.209\n",
      "Epoch: 11/20..  Step: 1100..  Training Loss: 3.872..  Valid. Loss: 3.179..  Valid. Accuracy: 0.232\n",
      "Epoch: 11/20..  Step: 1120..  Training Loss: 3.854..  Valid. Loss: 3.113..  Valid. Accuracy: 0.253\n",
      "Epoch: 12/20..  Step: 1140..  Training Loss: 3.715..  Valid. Loss: 3.102..  Valid. Accuracy: 0.236\n",
      "Epoch: 12/20..  Step: 1160..  Training Loss: 3.943..  Valid. Loss: 3.155..  Valid. Accuracy: 0.223\n",
      "Epoch: 12/20..  Step: 1180..  Training Loss: 3.850..  Valid. Loss: 3.120..  Valid. Accuracy: 0.239\n",
      "Epoch: 12/20..  Step: 1200..  Training Loss: 3.748..  Valid. Loss: 3.095..  Valid. Accuracy: 0.253\n",
      "Epoch: 12/20..  Step: 1220..  Training Loss: 3.746..  Valid. Loss: 3.056..  Valid. Accuracy: 0.259\n",
      "Epoch: 13/20..  Step: 1240..  Training Loss: 3.794..  Valid. Loss: 3.110..  Valid. Accuracy: 0.224\n",
      "Epoch: 13/20..  Step: 1260..  Training Loss: 4.073..  Valid. Loss: 3.189..  Valid. Accuracy: 0.224\n",
      "Epoch: 13/20..  Step: 1280..  Training Loss: 3.872..  Valid. Loss: 3.269..  Valid. Accuracy: 0.203\n",
      "Epoch: 13/20..  Step: 1300..  Training Loss: 3.839..  Valid. Loss: 3.238..  Valid. Accuracy: 0.223\n",
      "Epoch: 13/20..  Step: 1320..  Training Loss: 3.939..  Valid. Loss: 3.251..  Valid. Accuracy: 0.218\n",
      "Epoch: 14/20..  Step: 1340..  Training Loss: 3.830..  Valid. Loss: 3.122..  Valid. Accuracy: 0.215\n",
      "Epoch: 14/20..  Step: 1360..  Training Loss: 3.796..  Valid. Loss: 3.099..  Valid. Accuracy: 0.224\n",
      "Epoch: 14/20..  Step: 1380..  Training Loss: 3.793..  Valid. Loss: 3.183..  Valid. Accuracy: 0.226\n",
      "Epoch: 14/20..  Step: 1400..  Training Loss: 3.843..  Valid. Loss: 3.238..  Valid. Accuracy: 0.218\n",
      "Epoch: 14/20..  Step: 1420..  Training Loss: 3.844..  Valid. Loss: 3.233..  Valid. Accuracy: 0.224\n",
      "Epoch: 14/20..  Step: 1440..  Training Loss: 3.822..  Valid. Loss: 3.124..  Valid. Accuracy: 0.231\n",
      "Epoch: 15/20..  Step: 1460..  Training Loss: 3.882..  Valid. Loss: 3.146..  Valid. Accuracy: 0.255\n",
      "Epoch: 15/20..  Step: 1480..  Training Loss: 3.857..  Valid. Loss: 3.074..  Valid. Accuracy: 0.235\n",
      "Epoch: 15/20..  Step: 1500..  Training Loss: 3.809..  Valid. Loss: 3.146..  Valid. Accuracy: 0.248\n",
      "Epoch: 15/20..  Step: 1520..  Training Loss: 3.772..  Valid. Loss: 3.268..  Valid. Accuracy: 0.238\n",
      "Epoch: 15/20..  Step: 1540..  Training Loss: 3.802..  Valid. Loss: 3.172..  Valid. Accuracy: 0.228\n",
      "Epoch: 16/20..  Step: 1560..  Training Loss: 3.822..  Valid. Loss: 3.114..  Valid. Accuracy: 0.220\n",
      "Epoch: 16/20..  Step: 1580..  Training Loss: 3.839..  Valid. Loss: 3.192..  Valid. Accuracy: 0.223\n",
      "Epoch: 16/20..  Step: 1600..  Training Loss: 3.873..  Valid. Loss: 3.202..  Valid. Accuracy: 0.211\n",
      "Epoch: 16/20..  Step: 1620..  Training Loss: 3.774..  Valid. Loss: 3.085..  Valid. Accuracy: 0.233\n",
      "Epoch: 16/20..  Step: 1640..  Training Loss: 3.863..  Valid. Loss: 3.312..  Valid. Accuracy: 0.240\n",
      "Epoch: 17/20..  Step: 1660..  Training Loss: 3.924..  Valid. Loss: 3.171..  Valid. Accuracy: 0.219\n",
      "Epoch: 17/20..  Step: 1680..  Training Loss: 3.877..  Valid. Loss: 3.372..  Valid. Accuracy: 0.209\n",
      "Epoch: 17/20..  Step: 1700..  Training Loss: 3.875..  Valid. Loss: 3.366..  Valid. Accuracy: 0.206\n",
      "Epoch: 17/20..  Step: 1720..  Training Loss: 3.814..  Valid. Loss: 3.179..  Valid. Accuracy: 0.209\n",
      "Epoch: 17/20..  Step: 1740..  Training Loss: 3.885..  Valid. Loss: 3.216..  Valid. Accuracy: 0.247\n",
      "Epoch: 18/20..  Step: 1760..  Training Loss: 3.802..  Valid. Loss: 3.099..  Valid. Accuracy: 0.218\n",
      "Epoch: 18/20..  Step: 1780..  Training Loss: 3.911..  Valid. Loss: 3.187..  Valid. Accuracy: 0.213\n",
      "Epoch: 18/20..  Step: 1800..  Training Loss: 3.834..  Valid. Loss: 3.123..  Valid. Accuracy: 0.246\n",
      "Epoch: 18/20..  Step: 1820..  Training Loss: 3.756..  Valid. Loss: 3.069..  Valid. Accuracy: 0.239\n",
      "Epoch: 18/20..  Step: 1840..  Training Loss: 3.925..  Valid. Loss: 3.113..  Valid. Accuracy: 0.247\n",
      "Epoch: 19/20..  Step: 1860..  Training Loss: 3.858..  Valid. Loss: 3.098..  Valid. Accuracy: 0.235\n",
      "Epoch: 19/20..  Step: 1880..  Training Loss: 3.845..  Valid. Loss: 3.114..  Valid. Accuracy: 0.227\n",
      "Epoch: 19/20..  Step: 1900..  Training Loss: 3.839..  Valid. Loss: 3.128..  Valid. Accuracy: 0.233\n",
      "Epoch: 19/20..  Step: 1920..  Training Loss: 3.855..  Valid. Loss: 3.330..  Valid. Accuracy: 0.216\n",
      "Epoch: 19/20..  Step: 1940..  Training Loss: 4.052..  Valid. Loss: 3.129..  Valid. Accuracy: 0.228\n",
      "Epoch: 20/20..  Step: 1960..  Training Loss: 3.954..  Valid. Loss: 3.124..  Valid. Accuracy: 0.227\n",
      "Epoch: 20/20..  Step: 1980..  Training Loss: 3.796..  Valid. Loss: 3.211..  Valid. Accuracy: 0.219\n",
      "Epoch: 20/20..  Step: 2000..  Training Loss: 3.884..  Valid. Loss: 3.222..  Valid. Accuracy: 0.228\n",
      "Epoch: 20/20..  Step: 2020..  Training Loss: 3.761..  Valid. Loss: 3.197..  Valid. Accuracy: 0.221\n",
      "Epoch: 20/20..  Step: 2040..  Training Loss: 3.914..  Valid. Loss: 3.197..  Valid. Accuracy: 0.220\n",
      "Epoch: 20/20..  Step: 2060..  Training Loss: 3.898..  Valid. Loss: 3.288..  Valid. Accuracy: 0.189\n"
     ]
    }
   ],
   "source": [
    "with active_session():\n",
    "    running_loss = 0\n",
    "    steps = 0\n",
    "    \n",
    "    for e in range(epochs):\n",
    "        #images,labels = next(iter(trainloader))\n",
    "        #if torch.is_tensor(images):\n",
    "        for images,labels in dataloader['train']:\n",
    "            steps+=1\n",
    "            \n",
    "\n",
    "            # Update count of labels used for training\n",
    "            if e <=1:\n",
    "                unique_labels = labels.unique().tolist()\n",
    "                label_counts.update({n: 1+label_counts[n] for n in unique_labels})\n",
    "            \n",
    "            # Move images and labels tensors to device in use\n",
    "            images, labels = images.to(device), labels.to(device)\n",
    "            \n",
    "            model.train()\n",
    "            optimizer.zero_grad()\n",
    "\n",
    "            log_ps = model.forward(images)\n",
    "            loss = criterion(log_ps,labels)\n",
    "            loss.backward()\n",
    "            optimizer.step()\n",
    "\n",
    "            running_loss += loss.item()\n",
    "\n",
    "            if steps % print_every == 0:\n",
    "                valid_loss = 0\n",
    "                accuracy = 0\n",
    "                model.eval()\n",
    "                with torch.no_grad():\n",
    "                    for images, labels in dataloader['valid']:\n",
    "    #                 images,labels = next(iter(validloader))\n",
    "    #                 if torch.is_tensor(images):\n",
    "                        # Move images and labels tensors to device in use\n",
    "                        images, labels = images.to(device), labels.to(device)\n",
    "\n",
    "                        log_ps = model.forward(images)\n",
    "                        batch_loss = criterion(log_ps,labels)\n",
    "\n",
    "                        valid_loss +=batch_loss.item()\n",
    "\n",
    "                        # Accuracy\n",
    "                        ps = torch.exp(log_ps)\n",
    "                        top_p, top_class = ps.topk(1,dim=1)\n",
    "                        equals = top_class == labels.view(*top_class.shape)\n",
    "                        accuracy += torch.mean(equals.type(torch.FloatTensor))\n",
    "\n",
    "                running_loss /= print_every            \n",
    "                valid_loss /= len(validloader)\n",
    "                accuracy /= len(validloader)\n",
    "\n",
    "                train_losses.append(running_loss)\n",
    "                valid_losses.append(valid_loss)\n",
    "                accuracy_l.append(accuracy)\n",
    "\n",
    "\n",
    "                print(\"Epoch: {}/{}.. \".format(e+1, epochs),\n",
    "                      \"Step: {}.. \".format(steps),\n",
    "                      \"Training Loss: {:.3f}.. \".format(running_loss),\n",
    "                      \"Valid. Loss: {:.3f}.. \".format(valid_loss),\n",
    "                      \"Valid. Accuracy: {:.3f}\".format(accuracy))\n",
    "                running_loss = 0"
   ]
  },
  {
   "cell_type": "code",
   "execution_count": 16,
   "metadata": {},
   "outputs": [
    {
     "data": {
      "text/plain": [
       "<matplotlib.legend.Legend at 0x7f44aa006da0>"
      ]
     },
     "execution_count": 16,
     "metadata": {},
     "output_type": "execute_result"
    },
    {
     "data": {
      "image/png": "[encoded data removed]",
      "text/plain": [
       "<matplotlib.figure.Figure at 0x7f4489fde6a0>"
      ]
     },
     "metadata": {
      "needs_background": "light"
     },
     "output_type": "display_data"
    }
   ],
   "source": [
    "plt.plot(train_losses, label='Training loss')\n",
    "plt.plot(valid_losses, label='Validation loss')\n",
    "plt.plot(accuracy_l, label='Accuracy')\n",
    "plt.legend(frameon=False)"
   ]
  },
  {
   "cell_type": "code",
   "execution_count": 17,
   "metadata": {},
   "outputs": [
    {
     "data": {
      "text/plain": [
       "<matplotlib.legend.Legend at 0x7f44a87734e0>"
      ]
     },
     "execution_count": 17,
     "metadata": {},
     "output_type": "execute_result"
    },
    {
     "data": {
      "image/png": "[encoded data removed]",
      "text/plain": [
       "<matplotlib.figure.Figure at 0x7f44a9fc0ef0>"
      ]
     },
     "metadata": {
      "needs_background": "light"
     },
     "output_type": "display_data"
    }
   ],
   "source": [
    "fig, ax1 = plt.subplots()\n",
    "ax1.plot(train_losses, label='Training loss')\n",
    "ax1.plot(valid_losses, label='Validation loss')\n",
    "ax2 = ax1.twinx()  # instantiate a second axes that shares the same x-axis\n",
    "ax2.plot(accuracy_l, label='Accuracy',color='tab:green')\n",
    "plt.legend(frameon=False)"
   ]
  },
  {
   "cell_type": "code",
   "execution_count": 18,
   "metadata": {},
   "outputs": [],
   "source": [
    "ord_labels = collections.OrderedDict(sorted(label_counts.items()))\n",
    "labels, values = zip(*ord_labels.items())\n",
    "\n",
    "indexes = np.arange(len(labels))\n",
    "width = 1\n",
    "\n"
   ]
  },
  {
   "cell_type": "code",
   "execution_count": 19,
   "metadata": {},
   "outputs": [
    {
     "data": {
      "image/png": "[encoded data removed]",
      "text/plain": [
       "<matplotlib.figure.Figure at 0x7f44ab4a46d8>"
      ]
     },
     "metadata": {
      "needs_background": "light"
     },
     "output_type": "display_data"
    }
   ],
   "source": [
    "plt.figure(figsize=(20,15))\n",
    "width=0.9\n",
    "plt.bar(indexes, values, width)\n",
    "#plt.xticks(indexes + width * 0.5, labels)\n",
    "plt.xticks(indexes, labels)\n",
    "plt.show()"
   ]
  },
  {
   "cell_type": "code",
   "execution_count": 20,
   "metadata": {},
   "outputs": [
    {
     "name": "stdout",
     "output_type": "stream",
     "text": [
      "Lowest label found 0 largest label found 101\n"
     ]
    }
   ],
   "source": [
    "print(\"Lowest label found\",min(label_counts.keys()),\"largest label found\",max(label_counts.keys()))"
   ]
  },
  {
   "cell_type": "markdown",
   "metadata": {},
   "source": [
    "## Testing your network\n",
    "\n",
    "It's good practice to test your trained network on test data, images the network has never seen either in training or validation. This will give you a good estimate for the model's performance on completely new images. Run the test images through the network and measure the accuracy, the same way you did validation. You should be able to reach around 70% accuracy on the test set if the model has been trained well."
   ]
  },
  {
   "cell_type": "code",
   "execution_count": 21,
   "metadata": {},
   "outputs": [
    {
     "name": "stdout",
     "output_type": "stream",
     "text": [
      "Batch: 1/13..  Test Loss: 3.952..  Test Accuracy: 0.109\n",
      "Batch: 2/13..  Test Loss: 4.152..  Test Accuracy: 0.062\n",
      "Batch: 3/13..  Test Loss: 3.908..  Test Accuracy: 0.172\n",
      "Batch: 4/13..  Test Loss: 3.737..  Test Accuracy: 0.000\n",
      "Batch: 5/13..  Test Loss: 2.370..  Test Accuracy: 0.516\n",
      "Batch: 6/13..  Test Loss: 3.505..  Test Accuracy: 0.328\n",
      "Batch: 7/13..  Test Loss: 3.164..  Test Accuracy: 0.172\n",
      "Batch: 8/13..  Test Loss: 3.361..  Test Accuracy: 0.047\n",
      "Batch: 9/13..  Test Loss: 2.072..  Test Accuracy: 0.516\n",
      "Batch: 10/13..  Test Loss: 2.244..  Test Accuracy: 0.312\n",
      "Batch: 11/13..  Test Loss: 3.505..  Test Accuracy: 0.016\n",
      "Batch: 12/13..  Test Loss: 3.317..  Test Accuracy: 0.203\n",
      "Batch: 13/13..  Test Loss: 3.839..  Test Accuracy: 0.078\n"
     ]
    }
   ],
   "source": [
    "with active_session():\n",
    "    model.eval()\n",
    "    test_loss = 0\n",
    "    accuracy = 0\n",
    "    test_losses, accuracy_l_2 = [], []\n",
    "    \n",
    "    for bb, (images,labels) in enumerate(dataloader['test']):\n",
    "        with torch.no_grad():\n",
    "            steps+=1\n",
    "\n",
    "            # Move images and labels tensors to device in use\n",
    "            images, labels = images.to(device), labels.to(device)\n",
    "\n",
    "            log_ps = model(images)\n",
    "            loss = criterion(log_ps,labels)\n",
    "\n",
    "\n",
    "\n",
    "            test_loss += loss.item()\n",
    "\n",
    "            # Accuracy\n",
    "            ps = torch.exp(log_ps)\n",
    "            top_p, top_class = ps.topk(1,dim=1)\n",
    "            equals = top_class == labels.view(*top_class.shape)\n",
    "            accuracy_inst = torch.mean(equals.type(torch.FloatTensor))\n",
    "            accuracy += accuracy_inst\n",
    "            \n",
    "            accuracy_l_2.append(accuracy_inst)\n",
    "            test_losses.append(loss.item())\n",
    "            \n",
    "            print(\"Batch: {}/{}.. \".format(bb+1, len(dataloader['test'])),\n",
    "                \"Test Loss: {:.3f}.. \".format(loss.item()),\n",
    "                \"Test Accuracy: {:.3f}\".format(accuracy_inst))\n",
    "\n",
    "    \n",
    "    test_loss /= len(dataloader['test'])\n",
    "    accuracy /= len(dataloader['test'])"
   ]
  },
  {
   "cell_type": "code",
   "execution_count": 22,
   "metadata": {},
   "outputs": [
    {
     "data": {
      "text/plain": [
       "<matplotlib.legend.Legend at 0x7f44a86cdd68>"
      ]
     },
     "execution_count": 22,
     "metadata": {},
     "output_type": "execute_result"
    },
    {
     "data": {
      "image/png": "[encoded data removed]",
      "text/plain": [
       "<matplotlib.figure.Figure at 0x7f44a8656ba8>"
      ]
     },
     "metadata": {
      "needs_background": "light"
     },
     "output_type": "display_data"
    }
   ],
   "source": [
    "plt.plot(test_losses, label='Test loss')\n",
    "plt.plot(accuracy_l_2, label='Accuracy')\n",
    "plt.legend(frameon=False)"
   ]
  },
  {
   "cell_type": "markdown",
   "metadata": {},
   "source": [
    "## Save the checkpoint\n",
    "\n",
    "Now that your network is trained, save the model so you can load it later for making predictions. You probably want to save other things such as the mapping of classes to indices which you get from one of the image datasets: `image_datasets['train'].class_to_idx`. You can attach this to the model as an attribute which makes inference easier later on.\n",
    "\n",
    "```model.class_to_idx = image_datasets['train'].class_to_idx```\n",
    "\n",
    "Remember that you'll want to completely rebuild the model later so you can use it for inference. Make sure to include any information you need in the checkpoint. If you want to load the model and keep training, you'll want to save the number of epochs as well as the optimizer state, `optimizer.state_dict`. You'll likely want to use this trained model in the next part of the project, so best to save it now."
   ]
  },
  {
   "cell_type": "code",
   "execution_count": 23,
   "metadata": {},
   "outputs": [
    {
     "name": "stdout",
     "output_type": "stream",
     "text": [
      "total 376M\r\n",
      "drwxr-xr-x 2 root root 4.0K Apr  1  2019 assets\r\n",
      "-rw-r--r-- 1 root root 2.2K Mar  5  2018 cat_to_name.json\r\n",
      "-rw-r--r-- 1 root root 102M May 14 08:24 checkpoint_classif.pth\r\n",
      "-rw-r--r-- 1 root root 137M May 14 15:46 checkpoint.pth\r\n",
      "-rw-r--r-- 1 root root 137M May 15 11:21 checkpoint_vgg19_class2.pth\r\n",
      "lrwxrwxrwx 1 root root   21 Oct 13  2018 flowers -> ../../../data/flowers\r\n",
      "-rw-r--r-- 1 root root  83K May 15 15:10 Image Classifier Project.ipynb\r\n",
      "-rw-r--r-- 1 root root  16K Aug  5  2018 Image Classifier Project-zh.ipynb\r\n",
      "-rw-r--r-- 1 root root 1.1K Feb  6  2018 LICENSE\r\n",
      "-rw-r--r-- 1 root root    0 Feb  6  2018 predict.py\r\n",
      "drwxr-xr-x 2 root root 4.0K May 14 09:16 __pycache__\r\n",
      "-rw-r--r-- 1 root root  250 Apr 20  2018 README.md\r\n",
      "-rw-r--r-- 1 root root    0 Feb  6  2018 train.py\r\n",
      "-rw-r--r-- 1 root root 1.6K May 14 09:16 workspace_utils.py\r\n",
      "-rw-r--r-- 1 root root 1.6K Sep 28  2018 workspace-utils.py\r\n"
     ]
    }
   ],
   "source": [
    "!ls -lh"
   ]
  },
  {
   "cell_type": "code",
   "execution_count": 24,
   "metadata": {},
   "outputs": [],
   "source": [
    "model.class_to_idx = image_datasets['train'].class_to_idx"
   ]
  },
  {
   "cell_type": "code",
   "execution_count": 25,
   "metadata": {},
   "outputs": [],
   "source": [
    "classif_info = {'input_size': c_input_size,\n",
    "              'output_size': c_output_size,\n",
    "              'hidden_layers': [each.out_features for each in model.classifier.hidden_layers],\n",
    "               'drop_p':dropout_p}\n",
    "\n",
    "data_info ={'class_to_idx':image_datasets['train'].class_to_idx}\n",
    "training_info = {'train_losses':train_losses,\n",
    "                'valid_losses':valid_losses,\n",
    "                'accuracy':accuracy_l}\n",
    "\n",
    "checkpoint = {'classif_info':classif_info,\n",
    "             'base_model':base_model,\n",
    "             'state_dict':model.state_dict(),\n",
    "             'data_info':data_info,\n",
    "             'training_prog':training_info}\n",
    "\n",
    "\n",
    "torch.save(checkpoint, 'checkpoint_vgg16_class1.pth')"
   ]
  },
  {
   "cell_type": "code",
   "execution_count": 27,
   "metadata": {},
   "outputs": [
    {
     "name": "stdout",
     "output_type": "stream",
     "text": [
      "The state dict: \n",
      "\n",
      " odict_keys(['features.0.weight', 'features.0.bias', 'features.2.weight', 'features.2.bias', 'features.5.weight', 'features.5.bias', 'features.7.weight', 'features.7.bias', 'features.10.weight', 'features.10.bias', 'features.12.weight', 'features.12.bias', 'features.15.weight', 'features.15.bias', 'features.17.weight', 'features.17.bias', 'features.20.weight', 'features.20.bias', 'features.22.weight', 'features.22.bias', 'classifier.hidden_layers.0.weight', 'classifier.hidden_layers.0.bias', 'classifier.hidden_layers.1.weight', 'classifier.hidden_layers.1.bias', 'classifier.hidden_layers.2.weight', 'classifier.hidden_layers.2.bias', 'classifier.output.weight', 'classifier.output.bias'])\n"
     ]
    }
   ],
   "source": [
    "print(\"The state dict: \\n\\n\", model.state_dict().keys())"
   ]
  },
  {
   "cell_type": "markdown",
   "metadata": {},
   "source": [
    "### Note:\n",
    "Categories go from 1 to 102. I presume the neural network predicts in indexes, which go from 0 to 101?"
   ]
  },
  {
   "cell_type": "markdown",
   "metadata": {},
   "source": [
    "## Loading the checkpoint\n",
    "\n",
    "At this point it's good to write a function that can load a checkpoint and rebuild the model. That way you can come back to this project and keep working on it without having to retrain the network."
   ]
  },
  {
   "cell_type": "code",
   "execution_count": 17,
   "metadata": {},
   "outputs": [],
   "source": [
    "def load_checkpoint(filepath):\n",
    "    checkpoint = torch.load(filepath)\n",
    "    model = getattr(models, checkpoint['base_model'])(pretrained=True)\n",
    "    classif_info = checkpoint['classif_info']\n",
    "    classifier = Classifier(classif_info['input_size'],\n",
    "                            classif_info['output_size'],\n",
    "                            classif_info['hidden_layers'],\n",
    "                            classif_info['drop_p'])\n",
    "    # We avoid the base model from being trained\n",
    "    for param in model.parameters():\n",
    "        param.requires_grad = False\n",
    "    \n",
    "    # We change the classifier\n",
    "    model.classifier = classifier\n",
    "    \n",
    "    model.load_state_dict(checkpoint['state_dict'])\n",
    "    \n",
    "    return model"
   ]
  },
  {
   "cell_type": "code",
   "execution_count": 18,
   "metadata": {
    "scrolled": false
   },
   "outputs": [
    {
     "name": "stdout",
     "output_type": "stream",
     "text": [
      "VGG(\n",
      "  (features): Sequential(\n",
      "    (0): Conv2d(3, 64, kernel_size=(3, 3), stride=(1, 1), padding=(1, 1))\n",
      "    (1): ReLU(inplace)\n",
      "    (2): MaxPool2d(kernel_size=2, stride=2, padding=0, dilation=1, ceil_mode=False)\n",
      "    (3): Conv2d(64, 128, kernel_size=(3, 3), stride=(1, 1), padding=(1, 1))\n",
      "    (4): ReLU(inplace)\n",
      "    (5): MaxPool2d(kernel_size=2, stride=2, padding=0, dilation=1, ceil_mode=False)\n",
      "    (6): Conv2d(128, 256, kernel_size=(3, 3), stride=(1, 1), padding=(1, 1))\n",
      "    (7): ReLU(inplace)\n",
      "    (8): Conv2d(256, 256, kernel_size=(3, 3), stride=(1, 1), padding=(1, 1))\n",
      "    (9): ReLU(inplace)\n",
      "    (10): MaxPool2d(kernel_size=2, stride=2, padding=0, dilation=1, ceil_mode=False)\n",
      "    (11): Conv2d(256, 512, kernel_size=(3, 3), stride=(1, 1), padding=(1, 1))\n",
      "    (12): ReLU(inplace)\n",
      "    (13): Conv2d(512, 512, kernel_size=(3, 3), stride=(1, 1), padding=(1, 1))\n",
      "    (14): ReLU(inplace)\n",
      "    (15): MaxPool2d(kernel_size=2, stride=2, padding=0, dilation=1, ceil_mode=False)\n",
      "    (16): Conv2d(512, 512, kernel_size=(3, 3), stride=(1, 1), padding=(1, 1))\n",
      "    (17): ReLU(inplace)\n",
      "    (18): Conv2d(512, 512, kernel_size=(3, 3), stride=(1, 1), padding=(1, 1))\n",
      "    (19): ReLU(inplace)\n",
      "    (20): MaxPool2d(kernel_size=2, stride=2, padding=0, dilation=1, ceil_mode=False)\n",
      "  )\n",
      "  (classifier): Classifier(\n",
      "    (hidden_layers): ModuleList(\n",
      "      (0): Linear(in_features=25088, out_features=1048, bias=True)\n",
      "      (1): Linear(in_features=1048, out_features=256, bias=True)\n",
      "    )\n",
      "    (output): Linear(in_features=256, out_features=102, bias=True)\n",
      "    (dropout): Dropout(p=0.4)\n",
      "  )\n",
      ")\n"
     ]
    }
   ],
   "source": [
    "model = load_checkpoint('checkpoint.pth')\n",
    "print(model)\n",
    "# I am under the impression that after loading I cannot train anymore the model (validation loss and\n",
    "# accuracy stayed the same)"
   ]
  },
  {
   "cell_type": "code",
   "execution_count": 84,
   "metadata": {},
   "outputs": [],
   "source": [
    "# Use GPU if it's available\n",
    "device = torch.device(\"cuda\" if torch.cuda.is_available() else \"cpu\")\n",
    "model.to(device);"
   ]
  },
  {
   "cell_type": "code",
   "execution_count": 85,
   "metadata": {},
   "outputs": [
    {
     "name": "stdout",
     "output_type": "stream",
     "text": [
      "Batch: 1/13..  Test Loss: 2.669..  Test Accuracy: 0.312\n",
      "Batch: 2/13..  Test Loss: 2.313..  Test Accuracy: 0.469\n",
      "Batch: 3/13..  Test Loss: 1.953..  Test Accuracy: 0.547\n",
      "Batch: 4/13..  Test Loss: 2.880..  Test Accuracy: 0.250\n",
      "Batch: 5/13..  Test Loss: 0.975..  Test Accuracy: 0.672\n",
      "Batch: 6/13..  Test Loss: 2.488..  Test Accuracy: 0.391\n",
      "Batch: 7/13..  Test Loss: 0.881..  Test Accuracy: 0.844\n",
      "Batch: 8/13..  Test Loss: 2.224..  Test Accuracy: 0.469\n",
      "Batch: 9/13..  Test Loss: 0.926..  Test Accuracy: 0.766\n",
      "Batch: 10/13..  Test Loss: 0.807..  Test Accuracy: 0.844\n",
      "Batch: 11/13..  Test Loss: 2.509..  Test Accuracy: 0.375\n",
      "Batch: 12/13..  Test Loss: 2.953..  Test Accuracy: 0.203\n",
      "Batch: 13/13..  Test Loss: 2.878..  Test Accuracy: 0.392\n"
     ]
    }
   ],
   "source": [
    "with active_session():\n",
    "    model.eval()\n",
    "    test_loss = 0\n",
    "    accuracy = 0\n",
    "    test_losses, accuracy_l_2 = [], []\n",
    "    \n",
    "    for bb, (images,labels) in enumerate(dataloader['test']):\n",
    "        with torch.no_grad():\n",
    "            steps+=1\n",
    "\n",
    "            # Move images and labels tensors to device in use\n",
    "            images, labels = images.to(device), labels.to(device)\n",
    "\n",
    "            log_ps = model(images)\n",
    "            loss = criterion(log_ps,labels)\n",
    "\n",
    "\n",
    "\n",
    "            test_loss += loss.item()\n",
    "\n",
    "            # Accuracy\n",
    "            ps = torch.exp(log_ps)\n",
    "            top_p, top_class = ps.topk(1,dim=1)\n",
    "            equals = top_class == labels.view(*top_class.shape)\n",
    "            accuracy_inst = torch.mean(equals.type(torch.FloatTensor))\n",
    "            accuracy += accuracy_inst\n",
    "            \n",
    "            accuracy_l_2.append(accuracy_inst)\n",
    "            test_losses.append(loss.item())\n",
    "            \n",
    "            print(\"Batch: {}/{}.. \".format(bb+1, len(dataloader['test'])),\n",
    "                \"Test Loss: {:.3f}.. \".format(loss.item()),\n",
    "                \"Test Accuracy: {:.3f}\".format(accuracy_inst))\n",
    "\n",
    "    \n",
    "    test_loss /= len(dataloader['test'])\n",
    "    accuracy /= len(dataloader['test'])"
   ]
  },
  {
   "cell_type": "code",
   "execution_count": 86,
   "metadata": {},
   "outputs": [
    {
     "data": {
      "text/plain": [
       "<matplotlib.legend.Legend at 0x7fe54f39da20>"
      ]
     },
     "execution_count": 86,
     "metadata": {},
     "output_type": "execute_result"
    },
    {
     "data": {
      "image/png": "[encoded data removed]",
      "text/plain": [
       "<matplotlib.figure.Figure at 0x7fe54f355f28>"
      ]
     },
     "metadata": {
      "needs_background": "light"
     },
     "output_type": "display_data"
    }
   ],
   "source": [
    "plt.plot(test_losses, label='Test loss')\n",
    "plt.plot(accuracy_l_2, label='Accuracy')\n",
    "plt.legend(frameon=False)"
   ]
  },
  {
   "cell_type": "markdown",
   "metadata": {},
   "source": [
    "# Inference for classification\n",
    "\n",
    "Now you'll write a function to use a trained network for inference. That is, you'll pass an image into the network and predict the class of the flower in the image. Write a function called `predict` that takes an image and a model, then returns the top $K$ most likely classes along with the probabilities. It should look like \n",
    "\n",
    "```python\n",
    "probs, classes = predict(image_path, model)\n",
    "print(probs)\n",
    "print(classes)\n",
    "> [ 0.01558163  0.01541934  0.01452626  0.01443549  0.01407339]\n",
    "> ['70', '3', '45', '62', '55']\n",
    "```\n",
    "\n",
    "First you'll need to handle processing the input image such that it can be used in your network. \n",
    "\n",
    "## Image Preprocessing\n",
    "\n",
    "You'll want to use `PIL` to load the image ([documentation](https://pillow.readthedocs.io/en/latest/reference/Image.html)). It's best to write a function that preprocesses the image so it can be used as input for the model. This function should process the images in the same manner used for training. \n",
    "\n",
    "First, resize the images where the shortest side is 256 pixels, keeping the aspect ratio. This can be done with the [`thumbnail`](http://pillow.readthedocs.io/en/3.1.x/reference/Image.html#PIL.Image.Image.thumbnail) or [`resize`](http://pillow.readthedocs.io/en/3.1.x/reference/Image.html#PIL.Image.Image.thumbnail) methods. Then you'll need to crop out the center 224x224 portion of the image.\n",
    "\n",
    "Color channels of images are typically encoded as integers 0-255, but the model expected floats 0-1. You'll need to convert the values. It's easiest with a Numpy array, which you can get from a PIL image like so `np_image = np.array(pil_image)`.\n",
    "\n",
    "As before, the network expects the images to be normalized in a specific way. For the means, it's `[0.485, 0.456, 0.406]` and for the standard deviations `[0.229, 0.224, 0.225]`. You'll want to subtract the means from each color channel, then divide by the standard deviation. \n",
    "\n",
    "And finally, PyTorch expects the color channel to be the first dimension but it's the third dimension in the PIL image and Numpy array. You can reorder dimensions using [`ndarray.transpose`](https://docs.scipy.org/doc/numpy-1.13.0/reference/generated/numpy.ndarray.transpose.html). The color channel needs to be first and retain the order of the other two dimensions."
   ]
  },
  {
   "cell_type": "code",
   "execution_count": 13,
   "metadata": {},
   "outputs": [],
   "source": [
    "from PIL import Image\n",
    "def process_image(image):\n",
    "    ''' Scales, crops, and normalizes a PIL image for a PyTorch model,\n",
    "        returns an Numpy array\n",
    "    '''\n",
    "#     test_transforms = transforms.Compose([\n",
    "#                                        transforms.Resize(255),\n",
    "#                                        transforms.CenterCrop(224),\n",
    "#                                        transforms.ToTensor(),\n",
    "#                                        transforms.Normalize([0.485, 0.456, 0.406],\n",
    "#                                                             [0.229, 0.224, 0.225])\n",
    "    \n",
    "    # TODO: Process a PIL image for use in a PyTorch model\n",
    "    with Image.open(image) as img_p:\n",
    "        img = img_p.load()\n",
    "    \n",
    "    return img"
   ]
  },
  {
   "cell_type": "markdown",
   "metadata": {},
   "source": [
    "To check your work, the function below converts a PyTorch tensor and displays it in the notebook. If your `process_image` function works, running the output through this function should return the original image (except for the cropped out portions)."
   ]
  },
  {
   "cell_type": "code",
   "execution_count": 14,
   "metadata": {},
   "outputs": [],
   "source": [
    "def imshow(image, ax=None, title=None):\n",
    "    \"\"\"Imshow for Tensor.\"\"\"\n",
    "    if ax is None:\n",
    "        fig, ax = plt.subplots()\n",
    "    \n",
    "    # PyTorch tensors assume the color channel is the first dimension\n",
    "    # but matplotlib assumes is the third dimension\n",
    "    image = image.numpy().transpose((1, 2, 0))\n",
    "    \n",
    "    # Undo preprocessing\n",
    "    mean = np.array([0.485, 0.456, 0.406])\n",
    "    std = np.array([0.229, 0.224, 0.225])\n",
    "    image = std * image + mean\n",
    "    \n",
    "    # Image needs to be clipped between 0 and 1 or it looks like noise when displayed\n",
    "    image = np.clip(image, 0, 1)\n",
    "    \n",
    "    ax.imshow(image)\n",
    "    \n",
    "    return ax"
   ]
  },
  {
   "cell_type": "code",
   "execution_count": 9,
   "metadata": {},
   "outputs": [
    {
     "name": "stdout",
     "output_type": "stream",
     "text": [
      "/home/workspace/aipnd-project\r\n"
     ]
    }
   ],
   "source": [
    "!pwd"
   ]
  },
  {
   "cell_type": "code",
   "execution_count": 16,
   "metadata": {},
   "outputs": [
    {
     "data": {
      "text/plain": [
       "<PixelAccess at 0x7f7be36616d0>"
      ]
     },
     "execution_count": 16,
     "metadata": {},
     "output_type": "execute_result"
    }
   ],
   "source": [
    "img_path = 'flowers/test/5/image_05186.jpg'\n",
    "#img_path = 'flowers/test/5/image_05186.jpggg'\n",
    "image = process_image(img_path)\n",
    "image"
   ]
  },
  {
   "cell_type": "code",
   "execution_count": 17,
   "metadata": {},
   "outputs": [
    {
     "data": {
      "text/plain": [
       "PixelAccess"
      ]
     },
     "execution_count": 17,
     "metadata": {},
     "output_type": "execute_result"
    }
   ],
   "source": [
    "type(image)"
   ]
  },
  {
   "cell_type": "markdown",
   "metadata": {},
   "source": [
    "## Class Prediction\n",
    "\n",
    "Once you can get images in the correct format, it's time to write a function for making predictions with your model. A common practice is to predict the top 5 or so (usually called top-$K$) most probable classes. You'll want to calculate the class probabilities then find the $K$ largest values.\n",
    "\n",
    "To get the top $K$ largest values in a tensor use [`x.topk(k)`](http://pytorch.org/docs/master/torch.html#torch.topk). This method returns both the highest `k` probabilities and the indices of those probabilities corresponding to the classes. You need to convert from these indices to the actual class labels using `class_to_idx` which hopefully you added to the model or from an `ImageFolder` you used to load the data ([see here](#Save-the-checkpoint)). Make sure to invert the dictionary so you get a mapping from index to class as well.\n",
    "\n",
    "Again, this method should take a path to an image and a model checkpoint, then return the probabilities and classes.\n",
    "\n",
    "```python\n",
    "probs, classes = predict(image_path, model)\n",
    "print(probs)\n",
    "print(classes)\n",
    "> [ 0.01558163  0.01541934  0.01452626  0.01443549  0.01407339]\n",
    "> ['70', '3', '45', '62', '55']\n",
    "```"
   ]
  },
  {
   "cell_type": "code",
   "execution_count": null,
   "metadata": {},
   "outputs": [],
   "source": [
    "def predict(image_path, model, topk=5):\n",
    "    ''' Predict the class (or classes) of an image using a trained deep learning model.\n",
    "    '''\n",
    "    \n",
    "    # TODO: Implement the code to predict the class from an image file"
   ]
  },
  {
   "cell_type": "markdown",
   "metadata": {},
   "source": [
    "## Sanity Checking\n",
    "\n",
    "Now that you can use a trained model for predictions, check to make sure it makes sense. Even if the testing accuracy is high, it's always good to check that there aren't obvious bugs. Use `matplotlib` to plot the probabilities for the top 5 classes as a bar graph, along with the input image. It should look like this:\n",
    "\n",
    "<img src='assets/inference_example.png' width=300px>\n",
    "\n",
    "You can convert from the class integer encoding to actual flower names with the `cat_to_name.json` file (should have been loaded earlier in the notebook). To show a PyTorch tensor as an image, use the `imshow` function defined above."
   ]
  },
  {
   "cell_type": "code",
   "execution_count": null,
   "metadata": {},
   "outputs": [],
   "source": [
    "# TODO: Display an image along with the top 5 classes"
   ]
  }
 ],
 "metadata": {
  "kernelspec": {
   "display_name": "Python 3",
   "language": "python",
   "name": "python3"
  },
  "language_info": {
   "codemirror_mode": {
    "name": "ipython",
    "version": 3
   },
   "file_extension": ".py",
   "mimetype": "text/x-python",
   "name": "python",
   "nbconvert_exporter": "python",
   "pygments_lexer": "ipython3",
   "version": "3.6.3"
  }
 },
 "nbformat": 4,
 "nbformat_minor": 2
}
